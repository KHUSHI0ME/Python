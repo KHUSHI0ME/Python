{
  "nbformat": 4,
  "nbformat_minor": 0,
  "metadata": {
    "colab": {
      "provenance": [],
      "authorship_tag": "ABX9TyMhcbxIIX7WvP9cJolsqo/c",
      "include_colab_link": true
    },
    "kernelspec": {
      "name": "python3",
      "display_name": "Python 3"
    },
    "language_info": {
      "name": "python"
    }
  },
  "cells": [
    {
      "cell_type": "markdown",
      "metadata": {
        "id": "view-in-github",
        "colab_type": "text"
      },
      "source": [
        "<a href=\"https://colab.research.google.com/github/KHUSHI0ME/Python/blob/main/Python_projects.ipynb\" target=\"_parent\"><img src=\"https://colab.research.google.com/assets/colab-badge.svg\" alt=\"Open In Colab\"/></a>"
      ]
    },
    {
      "cell_type": "code",
      "execution_count": null,
      "metadata": {
        "colab": {
          "base_uri": "https://localhost:8080/"
        },
        "id": "UYbSVgXSFUbs",
        "outputId": "7030230a-32fc-4c35-8bc5-e246fd29ebfc"
      },
      "outputs": [
        {
          "output_type": "stream",
          "name": "stdout",
          "text": [
            "Before Swapping:\n",
            "a = 10\n",
            "b = 20\n",
            "c = 30\n",
            "\n",
            "After Swapping:\n",
            "a = 30\n",
            "b = 10\n",
            "c = 20\n"
          ]
        }
      ],
      "source": [
        "#SWAPING OF THREE NUMBERS\n",
        "\n",
        "a = 10\n",
        "b = 20\n",
        "c = 30\n",
        "\n",
        "print(\"Before Swapping:\")\n",
        "print(\"a =\", a)\n",
        "print(\"b =\", b)\n",
        "print(\"c =\", c)\n",
        "\n",
        "#swaping logic\n",
        "a, b, c = c, a, b\n",
        "\n",
        "print(\"\\nAfter Swapping:\")\n",
        "print(\"a =\", a)\n",
        "print(\"b =\", b)\n",
        "print(\"c =\", c)\n"
      ]
    },
    {
      "cell_type": "code",
      "source": [
        "#BILLING SYSTEM OF JUICE\n",
        "\n",
        "juice_name = input(\"Enter the juice name: \")\n",
        "price_per_glass = float(input(\"Enter price per glass (in ₹): \"))\n",
        "quantity = int(input(\"Enter quantity (number of glasses): \"))\n",
        "day = input(\"Enter the day of the week: \").lower()\n",
        "\n",
        "# Calculate total price\n",
        "total_price = price_per_glass * quantity\n",
        "\n",
        "#by using boolean logic (if weeekend = true otherwise = false)\n",
        "is_weekend = (day == \"saturday\") or (day == \"sunday\")\n",
        "\n",
        "# Calculate discount using boolean logic\n",
        "discount = total_price * 0.10 * is_weekend\n",
        "total_price -= discount\n",
        "\n",
        "# Final Bill\n",
        "print(\"\\n--- Juice Bill ---\")\n",
        "print(\"Juice:\", juice_name)\n",
        "print(\"Price per glass:\", price_per_glass)\n",
        "print(\"Quantity:\", quantity )\n",
        "print(\"Total Price after discount: ₹\", total_price)"
      ],
      "metadata": {
        "id": "tVzZymvwGmQC",
        "colab": {
          "base_uri": "https://localhost:8080/"
        },
        "outputId": "4d5165af-38d3-4e96-fa01-14d80e46cef1"
      },
      "execution_count": null,
      "outputs": [
        {
          "output_type": "stream",
          "name": "stdout",
          "text": [
            "Enter the juice name: Apple\n",
            "Enter price per glass (in ₹): 60\n",
            "Enter quantity (number of glasses): 4\n",
            "Enter the day of the week: sunday\n",
            "\n",
            "--- Juice Bill ---\n",
            "Juice: Apple\n",
            "Price per glass: 60.0\n",
            "Quantity: 4\n",
            "Total Price after discount: ₹ 216.0\n"
          ]
        }
      ]
    },
    {
      "cell_type": "code",
      "source": [
        "# STUDENT PERCENTAGE & MARKS CALCULATOR\n",
        "name = input(\"Enter student name: \")\n",
        "subject1 = float(input(\"Enter marks for Subject 1: \"))\n",
        "subject2 = float(input(\"Enter marks for Subject 2: \"))\n",
        "subject3 = float(input(\"Enter marks for Subject 3: \"))\n",
        "subject4 = float(input(\"Enter marks for Subject 4: \"))\n",
        "subject5 = float(input(\"Enter marks for Subject 5: \"))\n",
        "\n",
        "# Step 2: Calculate total and percentage\n",
        "total_marks = subject1 + subject2 + subject3 + subject4 + subject5\n",
        "percentage = (total_marks / 500) * 100  # Assuming each subject is out of 100\n",
        "\n",
        "# Step 3: Display result\n",
        "print(\"\\n--- Marksheet ---\")\n",
        "print(\"Student Name:\", name)\n",
        "print(\"Total Marks: \", total_marks, \"/ 500\")\n",
        "print(\"Percentage: \", percentage, \"%\")"
      ],
      "metadata": {
        "colab": {
          "base_uri": "https://localhost:8080/"
        },
        "id": "5a-NAlDSG7Xm",
        "outputId": "2b92f169-1a33-4c13-ba42-f4f1a4a6b500"
      },
      "execution_count": null,
      "outputs": [
        {
          "output_type": "stream",
          "name": "stdout",
          "text": [
            "Enter student name: dhruv\n",
            "Enter marks for Subject 1: 67\n",
            "Enter marks for Subject 2: 89\n",
            "Enter marks for Subject 3: 70\n",
            "Enter marks for Subject 4: 90\n",
            "Enter marks for Subject 5: 100\n",
            "\n",
            "--- Marksheet ---\n",
            "Student Name: dhruv\n",
            "Total Marks:  416.0 / 500\n",
            "Percentage:  83.2 %\n"
          ]
        }
      ]
    },
    {
      "cell_type": "code",
      "source": [],
      "metadata": {
        "id": "SM6ZxVGjHTOH"
      },
      "execution_count": null,
      "outputs": []
    }
  ]
}