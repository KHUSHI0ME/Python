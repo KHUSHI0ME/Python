{
  "nbformat": 4,
  "nbformat_minor": 0,
  "metadata": {
    "colab": {
      "provenance": [],
      "authorship_tag": "ABX9TyOUVlZGoTH1wwvKLNAFIpbG",
      "include_colab_link": true
    },
    "kernelspec": {
      "name": "python3",
      "display_name": "Python 3"
    },
    "language_info": {
      "name": "python"
    }
  },
  "cells": [
    {
      "cell_type": "markdown",
      "metadata": {
        "id": "view-in-github",
        "colab_type": "text"
      },
      "source": [
        "<a href=\"https://colab.research.google.com/github/KHUSHI0ME/Python/blob/main/Python_projects.ipynb\" target=\"_parent\"><img src=\"https://colab.research.google.com/assets/colab-badge.svg\" alt=\"Open In Colab\"/></a>"
      ]
    },
    {
      "cell_type": "code",
      "execution_count": null,
      "metadata": {
        "colab": {
          "base_uri": "https://localhost:8080/"
        },
        "id": "UYbSVgXSFUbs",
        "outputId": "7030230a-32fc-4c35-8bc5-e246fd29ebfc"
      },
      "outputs": [
        {
          "output_type": "stream",
          "name": "stdout",
          "text": [
            "Before Swapping:\n",
            "a = 10\n",
            "b = 20\n",
            "c = 30\n",
            "\n",
            "After Swapping:\n",
            "a = 30\n",
            "b = 10\n",
            "c = 20\n"
          ]
        }
      ],
      "source": [
        "#SWAPING OF THREE NUMBERS\n",
        "\n",
        "a = 10\n",
        "b = 20\n",
        "c = 30\n",
        "\n",
        "print(\"Before Swapping:\")\n",
        "print(\"a =\", a)\n",
        "print(\"b =\", b)\n",
        "print(\"c =\", c)\n",
        "\n",
        "#swaping logic\n",
        "a, b, c = c, a, b\n",
        "\n",
        "print(\"\\nAfter Swapping:\")\n",
        "print(\"a =\", a)\n",
        "print(\"b =\", b)\n",
        "print(\"c =\", c)\n"
      ]
    },
    {
      "cell_type": "code",
      "source": [
        "#BILLING SYSTEM OF JUICE\n",
        "\n",
        "juice_name = input(\"Enter the juice name: \")\n",
        "price_per_glass = float(input(\"Enter price per glass (in ₹): \"))\n",
        "quantity = int(input(\"Enter quantity (number of glasses): \"))\n",
        "day = input(\"Enter the day of the week: \").lower()\n",
        "\n",
        "# Calculate total price\n",
        "total_price = price_per_glass * quantity\n",
        "\n",
        "#by using boolean logic (if weeekend = true otherwise = false)\n",
        "is_weekend = (day == \"saturday\") or (day == \"sunday\")\n",
        "\n",
        "# Calculate discount using boolean logic\n",
        "discount = total_price * 0.10 * is_weekend\n",
        "total_price -= discount\n",
        "\n",
        "# Final Bill\n",
        "print(\"\\n--- Juice Bill ---\")\n",
        "print(\"Juice:\", juice_name)\n",
        "print(\"Price per glass:\", price_per_glass)\n",
        "print(\"Quantity:\", quantity )\n",
        "print(\"Total Price after discount: ₹\", total_price)"
      ],
      "metadata": {
        "id": "tVzZymvwGmQC",
        "colab": {
          "base_uri": "https://localhost:8080/"
        },
        "outputId": "4d5165af-38d3-4e96-fa01-14d80e46cef1"
      },
      "execution_count": null,
      "outputs": [
        {
          "output_type": "stream",
          "name": "stdout",
          "text": [
            "Enter the juice name: Apple\n",
            "Enter price per glass (in ₹): 60\n",
            "Enter quantity (number of glasses): 4\n",
            "Enter the day of the week: sunday\n",
            "\n",
            "--- Juice Bill ---\n",
            "Juice: Apple\n",
            "Price per glass: 60.0\n",
            "Quantity: 4\n",
            "Total Price after discount: ₹ 216.0\n"
          ]
        }
      ]
    },
    {
      "cell_type": "code",
      "source": [
        "# STUDENT PERCENTAGE & MARKS CALCULATOR\n",
        "name = input(\"Enter student name: \")\n",
        "subject1 = float(input(\"Enter marks for Subject 1: \"))\n",
        "subject2 = float(input(\"Enter marks for Subject 2: \"))\n",
        "subject3 = float(input(\"Enter marks for Subject 3: \"))\n",
        "subject4 = float(input(\"Enter marks for Subject 4: \"))\n",
        "subject5 = float(input(\"Enter marks for Subject 5: \"))\n",
        "\n",
        "# Step 2: Calculate total and percentage\n",
        "total_marks = subject1 + subject2 + subject3 + subject4 + subject5\n",
        "percentage = (total_marks / 500) * 100  # Assuming each subject is out of 100\n",
        "\n",
        "# Step 3: Display result\n",
        "print(\"\\n--- Marksheet ---\")\n",
        "print(\"Student Name:\", name)\n",
        "print(\"Total Marks: \", total_marks, \"/ 500\")\n",
        "print(\"Percentage: \", percentage, \"%\")"
      ],
      "metadata": {
        "colab": {
          "base_uri": "https://localhost:8080/"
        },
        "id": "5a-NAlDSG7Xm",
        "outputId": "2b92f169-1a33-4c13-ba42-f4f1a4a6b500"
      },
      "execution_count": null,
      "outputs": [
        {
          "output_type": "stream",
          "name": "stdout",
          "text": [
            "Enter student name: dhruv\n",
            "Enter marks for Subject 1: 67\n",
            "Enter marks for Subject 2: 89\n",
            "Enter marks for Subject 3: 70\n",
            "Enter marks for Subject 4: 90\n",
            "Enter marks for Subject 5: 100\n",
            "\n",
            "--- Marksheet ---\n",
            "Student Name: dhruv\n",
            "Total Marks:  416.0 / 500\n",
            "Percentage:  83.2 %\n"
          ]
        }
      ]
    },
    {
      "cell_type": "code",
      "source": [
        "# BASIC CALCULATOR PROGRAM\n",
        "\n",
        "num1 = float(input(\"Enter first number: \"))\n",
        "num2 = float(input(\"Enter second number: \"))\n",
        "choice = int(input(\"Enter your choice (1/2/3/4):\"))\n",
        "\n",
        "print(\"1. Addition\")\n",
        "print(\"2. Subtraction\")\n",
        "print(\"3. Multiplication\")\n",
        "print(\"4. Division\")\n",
        "\n",
        "\n",
        "if choice == 1:\n",
        "    result = num1 + num2\n",
        "    print(\"Result:\", result)\n",
        "else:\n",
        "    if choice == 2:\n",
        "        result = num1 - num2\n",
        "        print(\"Result:\", result)\n",
        "    else:\n",
        "        if choice == 3:\n",
        "            result = num1 * num2\n",
        "            print(\"Result:\", result)\n",
        "        else:\n",
        "            if choice == 4:\n",
        "                if num2 != 0:\n",
        "                    result = num1 / num2\n",
        "                    print(\"Result:\", result)\n",
        "                else:\n",
        "                    print(\"Error: Cannot divide by zero.\")\n",
        "            else:\n",
        "                print(\"Invalid choice.\")"
      ],
      "metadata": {
        "id": "SM6ZxVGjHTOH",
        "outputId": "68d621ad-996e-47e3-8df4-1ff480571d40",
        "colab": {
          "base_uri": "https://localhost:8080/"
        }
      },
      "execution_count": null,
      "outputs": [
        {
          "output_type": "stream",
          "name": "stdout",
          "text": [
            "Enter first number: 80\n",
            "Enter second number: 70\n",
            "Enter your choice (1/2/3/4):2\n",
            "1. Addition\n",
            "2. Subtraction\n",
            "3. Multiplication\n",
            "4. Division\n",
            "Result: 10.0\n"
          ]
        }
      ]
    },
    {
      "cell_type": "code",
      "source": [
        "# KBC PROJECT\n",
        "print(\"Welcome to kaun banega crorepati(KBC)\")\n",
        "print(\"We asked you 4 question each correct answer earns you 15000\")\n",
        "print(\"Let's start the game\")\n",
        "\n",
        "#here's your\n",
        "print(\"\\nQUESTION NO 1.\")\n",
        "\n",
        "print(\"\\nQ1. What is the capital of India?\")\n",
        "print(\"A. Mumbai\")\n",
        "print(\"B. Delhi\")\n",
        "print(\"C. Kolkata\")\n",
        "print(\"D. Chennai\")\n",
        "\n",
        "answer1 = input(\"Enter your answer (A/B/C/D): \").upper() # Convert input to uppercase\n",
        "\n",
        "if answer1 == \"B\":\n",
        "    print(\"Correct!\")\n",
        "    money = 10000\n",
        "else:\n",
        "    print(\"Wrong , The correct answer is B. Delhi\")\n",
        "    money = 0\n",
        "\n",
        " #here's your\n",
        "\n",
        "print(\"\\nQuestion 2\")\n",
        "print(\"\\nQ2. Who is known as the founder of python ?\")\n",
        "print(\"A. Guido Van Rossum\")\n",
        "print(\"B. Alan Turing\")\n",
        "print(\"C. Dennis Ritchie\")\n",
        "print(\"D. Steve Jobs\")\n",
        "\n",
        "answer2 = input(\"Enter your answer (A/B/C/D): \").upper() # Convert input to uppercase\n",
        "if answer2 == \"A\":\n",
        "    print(\"Correct!\")\n",
        "    money += 15000\n",
        "else:\n",
        "    print(\"Wrong! The correct answer is A. Guido Van Rossum\")\n",
        "    # If the user gets the second question wrong, the money from the first question should still be kept.\n",
        "    # The line 'money = 0' was removed from the else block of the second question.\n",
        "\n",
        "\n",
        "   # Final result\n",
        "print(f\"\\n You won ₹{money} in total. Thanks for playing KBC!\")"
      ],
      "metadata": {
        "colab": {
          "base_uri": "https://localhost:8080/"
        },
        "id": "myJW3qa5JLQu",
        "outputId": "bbde42c1-dd02-4651-dfd6-c651a60825ad"
      },
      "execution_count": null,
      "outputs": [
        {
          "output_type": "stream",
          "name": "stdout",
          "text": [
            "Welcome to kaun banega crorepati(KBC)\n",
            "We asked you 4 question each correct answer earns you 15000\n",
            "Let's start the game\n",
            "\n",
            "QUESTION NO 1.\n",
            "\n",
            "Q1. What is the capital of India?\n",
            "A. Mumbai\n",
            "B. Delhi\n",
            "C. Kolkata\n",
            "D. Chennai\n",
            "Enter your answer (A/B/C/D): B\n",
            "Correct!\n",
            "\n",
            "Question 2\n",
            "\n",
            "Q2. Who is known as the founder of python ?\n",
            "A. Guido Van Rossum\n",
            "B. Alan Turing\n",
            "C. Dennis Ritchie\n",
            "D. Steve Jobs\n",
            "Enter your answer (A/B/C/D): A\n",
            "Correct!\n",
            "\n",
            " You won ₹25000 in total. Thanks for playing KBC!\n"
          ]
        }
      ]
    },
    {
      "cell_type": "code",
      "source": [
        "#Secret Castle Program\n",
        "print('Welcome to the game (A SECREAT CASTLE)')\n",
        "\n",
        "print(\"You must enter the secret code to open the castle door.\")\n",
        "print(\"Hint: The door only opens if the code is divisible by BOTH 3 and 5.\")\n",
        "\n",
        "# enter the code\n",
        "code = int(input(\"Enter the secret code: \"))\n",
        "\n",
        "# Check conditions\n",
        "if code % 3 == 0 and code % 5 == 0:\n",
        "    print(\" Access Granted! The door to the secret castle opens...\")\n",
        "elif code % 3 == 0:\n",
        "    print(\" You are close! The code is divisible by 3.\")\n",
        "elif code % 5 == 0:\n",
        "    print(\" You are close! The code is divisible by 5.\")\n",
        "else:\n",
        "    print(\" Access Denied! This is not the correct code.\")"
      ],
      "metadata": {
        "colab": {
          "base_uri": "https://localhost:8080/"
        },
        "id": "Zj9RsGJ4J_ed",
        "outputId": "b779a0cb-d150-4e7e-f8a5-b416e2debf06"
      },
      "execution_count": null,
      "outputs": [
        {
          "output_type": "stream",
          "name": "stdout",
          "text": [
            "Welcome to the game (A SECREAT CASTLE)\n",
            "You must enter the secret code to open the castle door.\n",
            "Hint: The door only opens if the code is divisible by BOTH 3 and 5.\n",
            "Enter the secret code: 6\n",
            " You are close! The code is divisible by 3.\n"
          ]
        }
      ]
    },
    {
      "cell_type": "code",
      "source": [
        "#AREA OF TRIANGLE PROGRAM\n",
        "\n",
        "base = float(input(\"Enter the base of the triangle: \"))\n",
        "height = float(input(\"Enter the height of the triangle: \"))\n",
        "\n",
        "# Calculate area by the formula : (1/2) * base * height\n",
        "area = 0.5 * base * height\n",
        "\n",
        "\n",
        "print(\"The area of the triangle is:\", area)"
      ],
      "metadata": {
        "id": "NwuSw9auLTw6",
        "outputId": "4208f31d-f631-4198-a2e6-4734fd0358c4",
        "colab": {
          "base_uri": "https://localhost:8080/"
        }
      },
      "execution_count": null,
      "outputs": [
        {
          "output_type": "stream",
          "name": "stdout",
          "text": [
            "Enter the base of the triangle: 56.7\n",
            "Enter the height of the triangle: 67.0\n",
            "The area of the triangle is: 1899.45\n"
          ]
        }
      ]
    },
    {
      "cell_type": "code",
      "source": [
        "# CALCULATE SIMPLE INTEREST\n",
        "P = 50\n",
        "R = 80\n",
        "T = 30\n",
        "# Calculate by using the formula\n",
        "SI = (P * R * T) / 100\n",
        "print(\"Simple Interest\", SI)"
      ],
      "metadata": {
        "colab": {
          "base_uri": "https://localhost:8080/"
        },
        "id": "bqM8mPjoLmE9",
        "outputId": "5782a8ee-2cd0-4eed-d713-44bf0b4cfbd2"
      },
      "execution_count": 11,
      "outputs": [
        {
          "output_type": "stream",
          "name": "stdout",
          "text": [
            "Simple Interest 1200.0\n"
          ]
        }
      ]
    }
  ]
}