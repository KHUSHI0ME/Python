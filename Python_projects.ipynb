{
  "nbformat": 4,
  "nbformat_minor": 0,
  "metadata": {
    "colab": {
      "provenance": [],
      "authorship_tag": "ABX9TyPaBtm1SxcIfE2o7w0X+uXJ",
      "include_colab_link": true
    },
    "kernelspec": {
      "name": "python3",
      "display_name": "Python 3"
    },
    "language_info": {
      "name": "python"
    }
  },
  "cells": [
    {
      "cell_type": "markdown",
      "metadata": {
        "id": "view-in-github",
        "colab_type": "text"
      },
      "source": [
        "<a href=\"https://colab.research.google.com/github/KHUSHI0ME/Python/blob/main/Python_projects.ipynb\" target=\"_parent\"><img src=\"https://colab.research.google.com/assets/colab-badge.svg\" alt=\"Open In Colab\"/></a>"
      ]
    },
    {
      "cell_type": "code",
      "execution_count": null,
      "metadata": {
        "colab": {
          "base_uri": "https://localhost:8080/"
        },
        "id": "UYbSVgXSFUbs",
        "outputId": "7030230a-32fc-4c35-8bc5-e246fd29ebfc"
      },
      "outputs": [
        {
          "output_type": "stream",
          "name": "stdout",
          "text": [
            "Before Swapping:\n",
            "a = 10\n",
            "b = 20\n",
            "c = 30\n",
            "\n",
            "After Swapping:\n",
            "a = 30\n",
            "b = 10\n",
            "c = 20\n"
          ]
        }
      ],
      "source": [
        "#SWAPING OF THREE NUMBERS\n",
        "\n",
        "a = 10\n",
        "b = 20\n",
        "c = 30\n",
        "\n",
        "print(\"Before Swapping:\")\n",
        "print(\"a =\", a)\n",
        "print(\"b =\", b)\n",
        "print(\"c =\", c)\n",
        "\n",
        "#swaping logic\n",
        "a, b, c = c, a, b\n",
        "\n",
        "print(\"\\nAfter Swapping:\")\n",
        "print(\"a =\", a)\n",
        "print(\"b =\", b)\n",
        "print(\"c =\", c)\n"
      ]
    },
    {
      "cell_type": "code",
      "source": [
        "#BILLING SYSTEM OF JUICE\n",
        "\n",
        "juice_name = input(\"Enter the juice name: \")\n",
        "price_per_glass = float(input(\"Enter price per glass (in ₹): \"))\n",
        "quantity = int(input(\"Enter quantity (number of glasses): \"))\n",
        "day = input(\"Enter the day of the week: \").lower()\n",
        "\n",
        "# Calculate total price\n",
        "total_price = price_per_glass * quantity\n",
        "\n",
        "#by using boolean logic (if weeekend = true otherwise = false)\n",
        "is_weekend = (day == \"saturday\") or (day == \"sunday\")\n",
        "\n",
        "# Calculate discount using boolean logic\n",
        "discount = total_price * 0.10 * is_weekend\n",
        "total_price -= discount\n",
        "\n",
        "# Final Bill\n",
        "print(\"\\n--- Juice Bill ---\")\n",
        "print(\"Juice:\", juice_name)\n",
        "print(\"Price per glass:\", price_per_glass)\n",
        "print(\"Quantity:\", quantity )\n",
        "print(\"Total Price after discount: ₹\", total_price)"
      ],
      "metadata": {
        "id": "tVzZymvwGmQC",
        "colab": {
          "base_uri": "https://localhost:8080/"
        },
        "outputId": "4d5165af-38d3-4e96-fa01-14d80e46cef1"
      },
      "execution_count": null,
      "outputs": [
        {
          "output_type": "stream",
          "name": "stdout",
          "text": [
            "Enter the juice name: Apple\n",
            "Enter price per glass (in ₹): 60\n",
            "Enter quantity (number of glasses): 4\n",
            "Enter the day of the week: sunday\n",
            "\n",
            "--- Juice Bill ---\n",
            "Juice: Apple\n",
            "Price per glass: 60.0\n",
            "Quantity: 4\n",
            "Total Price after discount: ₹ 216.0\n"
          ]
        }
      ]
    },
    {
      "cell_type": "code",
      "source": [
        "# STUDENT PERCENTAGE & MARKS CALCULATOR\n",
        "name = input(\"Enter student name: \")\n",
        "subject1 = float(input(\"Enter marks for Subject 1: \"))\n",
        "subject2 = float(input(\"Enter marks for Subject 2: \"))\n",
        "subject3 = float(input(\"Enter marks for Subject 3: \"))\n",
        "subject4 = float(input(\"Enter marks for Subject 4: \"))\n",
        "subject5 = float(input(\"Enter marks for Subject 5: \"))\n",
        "\n",
        "# Step 2: Calculate total and percentage\n",
        "total_marks = subject1 + subject2 + subject3 + subject4 + subject5\n",
        "percentage = (total_marks / 500) * 100  # Assuming each subject is out of 100\n",
        "\n",
        "# Step 3: Display result\n",
        "print(\"\\n--- Marksheet ---\")\n",
        "print(\"Student Name:\", name)\n",
        "print(\"Total Marks: \", total_marks, \"/ 500\")\n",
        "print(\"Percentage: \", percentage, \"%\")"
      ],
      "metadata": {
        "colab": {
          "base_uri": "https://localhost:8080/"
        },
        "id": "5a-NAlDSG7Xm",
        "outputId": "2b92f169-1a33-4c13-ba42-f4f1a4a6b500"
      },
      "execution_count": null,
      "outputs": [
        {
          "output_type": "stream",
          "name": "stdout",
          "text": [
            "Enter student name: dhruv\n",
            "Enter marks for Subject 1: 67\n",
            "Enter marks for Subject 2: 89\n",
            "Enter marks for Subject 3: 70\n",
            "Enter marks for Subject 4: 90\n",
            "Enter marks for Subject 5: 100\n",
            "\n",
            "--- Marksheet ---\n",
            "Student Name: dhruv\n",
            "Total Marks:  416.0 / 500\n",
            "Percentage:  83.2 %\n"
          ]
        }
      ]
    },
    {
      "cell_type": "code",
      "source": [
        "# BASIC CALCULATOR PROGRAM\n",
        "\n",
        "num1 = float(input(\"Enter first number: \"))\n",
        "num2 = float(input(\"Enter second number: \"))\n",
        "choice = int(input(\"Enter your choice (1/2/3/4):\"))\n",
        "\n",
        "print(\"1. Addition\")\n",
        "print(\"2. Subtraction\")\n",
        "print(\"3. Multiplication\")\n",
        "print(\"4. Division\")\n",
        "\n",
        "\n",
        "if choice == 1:\n",
        "    result = num1 + num2\n",
        "    print(\"Result:\", result)\n",
        "else:\n",
        "    if choice == 2:\n",
        "        result = num1 - num2\n",
        "        print(\"Result:\", result)\n",
        "    else:\n",
        "        if choice == 3:\n",
        "            result = num1 * num2\n",
        "            print(\"Result:\", result)\n",
        "        else:\n",
        "            if choice == 4:\n",
        "                if num2 != 0:\n",
        "                    result = num1 / num2\n",
        "                    print(\"Result:\", result)\n",
        "                else:\n",
        "                    print(\"Error: Cannot divide by zero.\")\n",
        "            else:\n",
        "                print(\"Invalid choice.\")"
      ],
      "metadata": {
        "id": "SM6ZxVGjHTOH",
        "outputId": "68d621ad-996e-47e3-8df4-1ff480571d40",
        "colab": {
          "base_uri": "https://localhost:8080/"
        }
      },
      "execution_count": null,
      "outputs": [
        {
          "output_type": "stream",
          "name": "stdout",
          "text": [
            "Enter first number: 80\n",
            "Enter second number: 70\n",
            "Enter your choice (1/2/3/4):2\n",
            "1. Addition\n",
            "2. Subtraction\n",
            "3. Multiplication\n",
            "4. Division\n",
            "Result: 10.0\n"
          ]
        }
      ]
    },
    {
      "cell_type": "code",
      "source": [
        "# KBC PROJECT\n",
        "print(\"Welcome to kaun banega crorepati(KBC)\")\n",
        "print(\"We asked you 4 question each correct answer earns you 15000\")\n",
        "print(\"Let's start the game\")\n",
        "\n",
        "#here's your\n",
        "print(\"\\nQUESTION NO 1.\")\n",
        "\n",
        "print(\"\\nQ1. What is the capital of India?\")\n",
        "print(\"A. Mumbai\")\n",
        "print(\"B. Delhi\")\n",
        "print(\"C. Kolkata\")\n",
        "print(\"D. Chennai\")\n",
        "\n",
        "answer1 = input(\"Enter your answer (A/B/C/D): \").upper() # Convert input to uppercase\n",
        "\n",
        "if answer1 == \"B\":\n",
        "    print(\"Correct!\")\n",
        "    money = 10000\n",
        "else:\n",
        "    print(\"Wrong , The correct answer is B. Delhi\")\n",
        "    money = 0\n",
        "\n",
        " #here's your\n",
        "\n",
        "print(\"\\nQuestion 2\")\n",
        "print(\"\\nQ2. Who is known as the founder of python ?\")\n",
        "print(\"A. Guido Van Rossum\")\n",
        "print(\"B. Alan Turing\")\n",
        "print(\"C. Dennis Ritchie\")\n",
        "print(\"D. Steve Jobs\")\n",
        "\n",
        "answer2 = input(\"Enter your answer (A/B/C/D): \").upper() # Convert input to uppercase\n",
        "if answer2 == \"A\":\n",
        "    print(\"Correct!\")\n",
        "    money += 15000\n",
        "else:\n",
        "    print(\"Wrong! The correct answer is A. Guido Van Rossum\")\n",
        "    # If the user gets the second question wrong, the money from the first question should still be kept.\n",
        "    # The line 'money = 0' was removed from the else block of the second question.\n",
        "\n",
        "\n",
        "   # Final result\n",
        "print(f\"\\n You won ₹{money} in total. Thanks for playing KBC!\")"
      ],
      "metadata": {
        "colab": {
          "base_uri": "https://localhost:8080/"
        },
        "id": "myJW3qa5JLQu",
        "outputId": "bbde42c1-dd02-4651-dfd6-c651a60825ad"
      },
      "execution_count": null,
      "outputs": [
        {
          "output_type": "stream",
          "name": "stdout",
          "text": [
            "Welcome to kaun banega crorepati(KBC)\n",
            "We asked you 4 question each correct answer earns you 15000\n",
            "Let's start the game\n",
            "\n",
            "QUESTION NO 1.\n",
            "\n",
            "Q1. What is the capital of India?\n",
            "A. Mumbai\n",
            "B. Delhi\n",
            "C. Kolkata\n",
            "D. Chennai\n",
            "Enter your answer (A/B/C/D): B\n",
            "Correct!\n",
            "\n",
            "Question 2\n",
            "\n",
            "Q2. Who is known as the founder of python ?\n",
            "A. Guido Van Rossum\n",
            "B. Alan Turing\n",
            "C. Dennis Ritchie\n",
            "D. Steve Jobs\n",
            "Enter your answer (A/B/C/D): A\n",
            "Correct!\n",
            "\n",
            " You won ₹25000 in total. Thanks for playing KBC!\n"
          ]
        }
      ]
    },
    {
      "cell_type": "code",
      "source": [
        "#Secret Castle Program\n",
        "print('Welcome to the game (A SECREAT CASTLE)')\n",
        "\n",
        "print(\"You must enter the secret code to open the castle door.\")\n",
        "print(\"Hint: The door only opens if the code is divisible by BOTH 3 and 5.\")\n",
        "\n",
        "# enter the code\n",
        "code = int(input(\"Enter the secret code: \"))\n",
        "\n",
        "# Check conditions\n",
        "if code % 3 == 0 and code % 5 == 0:\n",
        "    print(\" Access Granted! The door to the secret castle opens...\")\n",
        "elif code % 3 == 0:\n",
        "    print(\" You are close! The code is divisible by 3.\")\n",
        "elif code % 5 == 0:\n",
        "    print(\" You are close! The code is divisible by 5.\")\n",
        "else:\n",
        "    print(\" Access Denied! This is not the correct code.\")"
      ],
      "metadata": {
        "colab": {
          "base_uri": "https://localhost:8080/"
        },
        "id": "Zj9RsGJ4J_ed",
        "outputId": "b779a0cb-d150-4e7e-f8a5-b416e2debf06"
      },
      "execution_count": null,
      "outputs": [
        {
          "output_type": "stream",
          "name": "stdout",
          "text": [
            "Welcome to the game (A SECREAT CASTLE)\n",
            "You must enter the secret code to open the castle door.\n",
            "Hint: The door only opens if the code is divisible by BOTH 3 and 5.\n",
            "Enter the secret code: 6\n",
            " You are close! The code is divisible by 3.\n"
          ]
        }
      ]
    },
    {
      "cell_type": "code",
      "source": [
        "#AREA OF TRIANGLE PROGRAM\n",
        "\n",
        "base = float(input(\"Enter the base of the triangle: \"))\n",
        "height = float(input(\"Enter the height of the triangle: \"))\n",
        "\n",
        "# Calculate area by the formula : (1/2) * base * height\n",
        "area = 0.5 * base * height\n",
        "\n",
        "\n",
        "print(\"The area of the triangle is:\", area)"
      ],
      "metadata": {
        "id": "NwuSw9auLTw6",
        "outputId": "4208f31d-f631-4198-a2e6-4734fd0358c4",
        "colab": {
          "base_uri": "https://localhost:8080/"
        }
      },
      "execution_count": null,
      "outputs": [
        {
          "output_type": "stream",
          "name": "stdout",
          "text": [
            "Enter the base of the triangle: 56.7\n",
            "Enter the height of the triangle: 67.0\n",
            "The area of the triangle is: 1899.45\n"
          ]
        }
      ]
    },
    {
      "cell_type": "code",
      "source": [
        "# CALCULATE SIMPLE INTEREST\n",
        "P = 50\n",
        "R = 80\n",
        "T = 30\n",
        "# Calculate by using the formula\n",
        "SI = (P * R * T) / 100\n",
        "print(\"Simple Interest\", SI)"
      ],
      "metadata": {
        "id": "bqM8mPjoLmE9",
        "outputId": "5782a8ee-2cd0-4eed-d713-44bf0b4cfbd2",
        "colab": {
          "base_uri": "https://localhost:8080/"
        }
      },
      "execution_count": null,
      "outputs": [
        {
          "output_type": "stream",
          "name": "stdout",
          "text": [
            "Simple Interest 1200.0\n"
          ]
        }
      ]
    },
    {
      "cell_type": "code",
      "source": [
        "#SUM OF NATURAL NUMBERS PROGRAM\n",
        "n = int(input(\"Enter a number: \"))\n",
        "sum = 0    #initial sum\n",
        "for i in range(1, n + 1):\n",
        "    sum += i\n",
        "print(\"The sum of natural numbers up to\", n, \"is:\", sum)\n"
      ],
      "metadata": {
        "colab": {
          "base_uri": "https://localhost:8080/"
        },
        "id": "NFHCCwvk8Hpp",
        "outputId": "b228168c-5349-4f42-881b-d4ad40ab1e41"
      },
      "execution_count": null,
      "outputs": [
        {
          "output_type": "stream",
          "name": "stdout",
          "text": [
            "Enter a number: 6\n",
            "The sum of natural numbers up to 6 is: 21\n"
          ]
        }
      ]
    },
    {
      "cell_type": "code",
      "source": [
        "#Multiplication table using for and range\n",
        "n = int(input(\"Enter a number: \"))\n",
        "\n",
        "print(\"Multiplication Table of\", n)\n"
      ],
      "metadata": {
        "colab": {
          "base_uri": "https://localhost:8080/"
        },
        "id": "5MBzLbgoEYwh",
        "outputId": "9217345a-b48d-42d0-d06f-6e7bdf05f481"
      },
      "execution_count": null,
      "outputs": [
        {
          "output_type": "stream",
          "name": "stdout",
          "text": [
            "Enter a number: 8\n",
            "8 x 1 = 8\n",
            "8 x 2 = 16\n",
            "8 x 3 = 24\n",
            "8 x 4 = 32\n",
            "8 x 5 = 40\n",
            "8 x 6 = 48\n",
            "8 x 7 = 56\n",
            "8 x 8 = 64\n",
            "8 x 9 = 72\n",
            "8 x 10 = 80\n",
            "Multiplication Table of 8\n"
          ]
        }
      ]
    },
    {
      "cell_type": "code",
      "source": [
        "'''continue : with the continue statement we can stop the current iteration of the loop, and continue with the next iteration.\n",
        "x = 1\n",
        "while x<=24\n",
        "of x%5==0\n",
        "x = x+1\n",
        "continue\n",
        "print(x)\n",
        "x = x+1'''\n",
        "\n",
        "'''pass in python\n",
        "if x ==0\n",
        "pass\n",
        "print(\"hello\")''''''\n"
      ],
      "metadata": {
        "id": "i0UOUoY9FehO"
      },
      "execution_count": null,
      "outputs": []
    },
    {
      "cell_type": "code",
      "source": [
        "# Secret Castle Program with 3 lives\n",
        "\n",
        "print(' Welcome to the game (A SECRET CASTLE) ')\n",
        "print(\" You must enter the secret code to open the castle door.\")\n",
        "print(\" Hint: The door only opens if the code is divisible by BOTH 3 and 5.\\n\")\n",
        "\n",
        "lives = 3  # Total chances\n",
        "\n",
        "while lives > 0:\n",
        "    code = int(input(f\"Enter the secret code (Lives left: {lives}): \"))\n",
        "\n",
        "    if code <= 0:\n",
        "        print(\" Invalid input. Please enter a positive number.\\n\")\n",
        "        continue  # Do not reduce life for invalid input\n",
        "\n",
        "    if code % 3 == 0 and code % 5 == 0:\n",
        "        print(\" Access Granted! The door to the secret castle opens...\")\n",
        "        break  # Exit loop, correct code entered\n",
        "\n",
        "    elif code % 3 == 0:\n",
        "        print(\" You are close! The code is divisible by 3.\\n\")\n",
        "        pass\n",
        "\n",
        "    elif code % 5 == 0:\n",
        "        print(\" You are close! The code is divisible by 5.\\n\")\n",
        "        pass\n",
        "\n",
        "    else:\n",
        "        print(\" Access Denied! This is not the correct code.\\n\")\n",
        "        pass\n",
        "\n",
        "    lives -= 1\n",
        "\n",
        "    if lives == 0:\n",
        "        print(\"GAME OVER! You’ve used all your lives.\\n\")"
      ],
      "metadata": {
        "colab": {
          "base_uri": "https://localhost:8080/"
        },
        "id": "z3N9xTgrO-WL",
        "outputId": "40632b2c-3689-4ca2-b665-3327c90efdb7"
      },
      "execution_count": null,
      "outputs": [
        {
          "output_type": "stream",
          "name": "stdout",
          "text": [
            " Welcome to the game (A SECRET CASTLE) \n",
            " You must enter the secret code to open the castle door.\n",
            " Hint: The door only opens if the code is divisible by BOTH 3 and 5.\n",
            "\n",
            "Enter the secret code (Lives left: 3): 7\n",
            " Access Denied! This is not the correct code.\n",
            "\n",
            "Enter the secret code (Lives left: 2): 8\n",
            " Access Denied! This is not the correct code.\n",
            "\n",
            "Enter the secret code (Lives left: 1): 4\n",
            " Access Denied! This is not the correct code.\n",
            "\n",
            "GAME OVER! You’ve used all your lives.\n",
            "\n"
          ]
        }
      ]
    },
    {
      "cell_type": "code",
      "source": [
        "import random\n",
        "\n",
        "for i in range(10):  # You can change 10 to however many random numbers you want\n",
        "    number = random.randint(1, 100)\n",
        "    print(number)"
      ],
      "metadata": {
        "colab": {
          "base_uri": "https://localhost:8080/"
        },
        "id": "IJ9OEuHOA0FZ",
        "outputId": "447614f4-92d6-4e2f-a10e-d5f849cd2ce1"
      },
      "execution_count": null,
      "outputs": [
        {
          "output_type": "stream",
          "name": "stdout",
          "text": [
            "24\n",
            "37\n",
            "26\n",
            "88\n",
            "71\n",
            "32\n",
            "72\n",
            "30\n",
            "41\n",
            "43\n"
          ]
        }
      ]
    },
    {
      "cell_type": "code",
      "source": [
        "#Initial Basket IS Empty\n",
        "fruit_basket = []\n",
        "\n",
        "print(\"Welcome to the Fruit Basket Program\")\n",
        "\n",
        "# Add some fruits\n",
        "fruit_basket.append(\"Apple\")\n",
        "fruit_basket.append(\"Banana\")\n",
        "fruit_basket.append(\"Mango\")\n",
        "fruit_basket.append(\"Orange\")\n",
        "\n",
        "print(\"\\nCurrent fruit basket:\", fruit_basket)\n",
        "\n",
        "#BY USING INSERT METHOD\n",
        "fruit_basket.insert(1, \"Grapes\")\n",
        "print(\"\\nAfter inserting Grapes at position 1:\", fruit_basket)\n",
        "\n",
        "# Remove a fruit\n",
        "fruit_basket.remove(\"Banana\")\n",
        "print(\"\\nAfter removing Banana:\", fruit_basket)\n",
        "\n",
        "# Sort the fruits alphabetically\n",
        "fruit_basket.sort()\n",
        "print(\"\\nSorted fruit basket:\", fruit_basket)\n",
        "\n",
        "# Reverse the list\n",
        "fruit_basket.reverse()\n",
        "print(\"\\nReversed fruit basket:\", fruit_basket)\n",
        "\n",
        "# Pop the last fruit\n",
        "last_fruit = fruit_basket.pop()\n",
        "print(f\"\\nRemoved last fruit: {last_fruit}\")\n",
        "print(\"Basket after popping last fruit:\", fruit_basket)\n",
        "\n",
        "# Clear the basket\n",
        "fruit_basket.clear()\n",
        "print(\"\\nBasket after clearing all fruits:\", fruit_basket)"
      ],
      "metadata": {
        "colab": {
          "base_uri": "https://localhost:8080/"
        },
        "id": "Z7TJVdfFpGu8",
        "outputId": "e19de792-2625-4285-f074-011e8a6e80d8"
      },
      "execution_count": null,
      "outputs": [
        {
          "output_type": "stream",
          "name": "stdout",
          "text": [
            "Welcome to the Fruit Basket Program\n",
            "\n",
            "Current fruit basket: ['Apple', 'Banana', 'Mango', 'Orange']\n",
            "\n",
            "After inserting Grapes at position 1: ['Apple', 'Grapes', 'Banana', 'Mango', 'Orange']\n",
            "\n",
            "After removing Banana: ['Apple', 'Grapes', 'Mango', 'Orange']\n",
            "\n",
            "Sorted fruit basket: ['Apple', 'Grapes', 'Mango', 'Orange']\n",
            "\n",
            "Reversed fruit basket: ['Orange', 'Mango', 'Grapes', 'Apple']\n",
            "\n",
            "Removed last fruit: Apple\n",
            "Basket after popping last fruit: ['Orange', 'Mango', 'Grapes']\n",
            "\n",
            "Basket after clearing all fruits: []\n"
          ]
        }
      ]
    },
    {
      "cell_type": "code",
      "source": [
        "print(\"📄 Welcome to the Marksheet Generator 📄\\n\")\n",
        "\n",
        "subjects = [\"Maths\", \"Science\", \"English\", \"Computer\", \"Social Science\"]\n",
        "number_of_students = int(input(\"How many students? \"))\n",
        "\n",
        "for s in range(number_of_students):\n",
        "    print(f\"\\n🧑 Enter details for Student {s + 1}\")\n",
        "\n",
        "    # details\n",
        "    student_info = []\n",
        "    student_info.append(input(\"Enter Roll Number: \"))\n",
        "    student_info.append(input(\"Enter Student Name: \"))\n",
        "    student_info.append(input(\"Enter Father's Name: \"))\n",
        "    student_info.append(input(\"Enter Mother's Name: \"))\n",
        "\n",
        "    # marks\n",
        "    marks = []\n",
        "    print(\"\\nEnter marks out of 100:\")\n",
        "    for subject in subjects:\n",
        "        score = int(input(f\"{subject}: \"))\n",
        "        marks.append(score)\n",
        "\n",
        "    total = sum(marks)\n",
        "    percentage = total / len(subjects)\n",
        "\n",
        "    # marksheet\n",
        "    print(\"\\n\" + \"=\"*40)\n",
        "    print(\" \"*10 + \"📚 STUDENT MARKSHEET 📚\")\n",
        "    print(\"=\"*40)\n",
        "    print(f\"Roll Number   : {student_info[0]}\")\n",
        "    print(f\"Name          : {student_info[1]}\")\n",
        "    print(f\"Father's Name : {student_info[2]}\")\n",
        "    print(f\"Mother's Name : {student_info[3]}\")\n",
        "    print(\"-\"*40)\n",
        "    print(f\"{'Subject':<20}Marks\")\n",
        "    print(\"-\"*40)\n",
        "    for subject, mark in zip(subjects, marks):\n",
        "        print(f\"{subject:<20}{mark}\")\n",
        "    print(\"-\"*40)\n",
        "    print(f\"{'Total':<20}{total} / 500\")\n",
        "    print(f\"{'Percentage':<20}{percentage:.2f}%\")\n",
        "    print(\"=\"*40)"
      ],
      "metadata": {
        "colab": {
          "base_uri": "https://localhost:8080/"
        },
        "id": "_0sxhoBzSFWn",
        "outputId": "9586454f-ddeb-46c2-9b00-527f4bb39988"
      },
      "execution_count": 2,
      "outputs": [
        {
          "output_type": "stream",
          "name": "stdout",
          "text": [
            "📄 Welcome to the Marksheet Generator 📄\n",
            "\n",
            "How many students? 3\n",
            "\n",
            "🧑 Enter details for Student 1\n",
            "Enter Roll Number: 21\n",
            "Enter Student Name: Nischal\n",
            "Enter Father's Name: Ram\n",
            "Enter Mother's Name: Sita\n",
            "\n",
            "Enter marks out of 100:\n",
            "Maths: 80\n",
            "Science: 90\n",
            "English: 100\n",
            "Computer: 70\n",
            "Social Science: 85\n",
            "\n",
            "========================================\n",
            "          📚 STUDENT MARKSHEET 📚\n",
            "========================================\n",
            "Roll Number   : 21\n",
            "Name          : Nischal\n",
            "Father's Name : Ram\n",
            "Mother's Name : Sita\n",
            "----------------------------------------\n",
            "Subject             Marks\n",
            "----------------------------------------\n",
            "Maths               80\n",
            "Science             90\n",
            "English             100\n",
            "Computer            70\n",
            "Social Science      85\n",
            "----------------------------------------\n",
            "Total               425 / 500\n",
            "Percentage          85.00%\n",
            "========================================\n",
            "\n",
            "🧑 Enter details for Student 2\n",
            "Enter Roll Number: 22\n",
            "Enter Student Name: Swati\n",
            "Enter Father's Name: Rahul\n",
            "Enter Mother's Name: Manisha\n",
            "\n",
            "Enter marks out of 100:\n",
            "Maths: 100\n",
            "Science: 90\n",
            "English: 60\n",
            "Computer: 70\n",
            "Social Science: 80\n",
            "\n",
            "========================================\n",
            "          📚 STUDENT MARKSHEET 📚\n",
            "========================================\n",
            "Roll Number   : 22\n",
            "Name          : Swati\n",
            "Father's Name : Rahul\n",
            "Mother's Name : Manisha\n",
            "----------------------------------------\n",
            "Subject             Marks\n",
            "----------------------------------------\n",
            "Maths               100\n",
            "Science             90\n",
            "English             60\n",
            "Computer            70\n",
            "Social Science      80\n",
            "----------------------------------------\n",
            "Total               400 / 500\n",
            "Percentage          80.00%\n",
            "========================================\n",
            "\n",
            "🧑 Enter details for Student 3\n",
            "Enter Roll Number: 23\n",
            "Enter Student Name: Vanshika\n",
            "Enter Father's Name: Sachin\n",
            "Enter Mother's Name: Pooja\n",
            "\n",
            "Enter marks out of 100:\n",
            "Maths: 90\n",
            "Science: 80\n",
            "English: 50\n",
            "Computer: 60\n",
            "Social Science: 75\n",
            "\n",
            "========================================\n",
            "          📚 STUDENT MARKSHEET 📚\n",
            "========================================\n",
            "Roll Number   : 23\n",
            "Name          : Vanshika\n",
            "Father's Name : Sachin\n",
            "Mother's Name : Pooja\n",
            "----------------------------------------\n",
            "Subject             Marks\n",
            "----------------------------------------\n",
            "Maths               90\n",
            "Science             80\n",
            "English             50\n",
            "Computer            60\n",
            "Social Science      75\n",
            "----------------------------------------\n",
            "Total               355 / 500\n",
            "Percentage          71.00%\n",
            "========================================\n"
          ]
        }
      ]
    }
  ]
}